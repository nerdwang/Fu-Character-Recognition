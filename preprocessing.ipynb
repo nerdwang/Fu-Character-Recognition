{
 "cells": [
  {
   "cell_type": "code",
   "execution_count": 1,
   "id": "12e17bde",
   "metadata": {},
   "outputs": [],
   "source": [
    "import os\n",
    "import cv2\n",
    "import matplotlib.pyplot as plt\n",
    "import numpy as np\n",
    "import pandas as pd\n",
    "import shutil"
   ]
  },
  {
   "cell_type": "code",
   "execution_count": 2,
   "id": "fd533bff",
   "metadata": {},
   "outputs": [],
   "source": [
    "#将所有福字数据复制并重命名\n",
    "def rename_images(new_path, folder_path, new_name_prefix):\n",
    "    # 获取文件夹中所有文件的列表\n",
    "    files = os.listdir(folder_path)\n",
    "    \n",
    "    # 遍历文件夹中的每个文件\n",
    "    for i, file_name in enumerate(files):\n",
    "        # 构造新的文件名\n",
    "        new_file_name = f\"{new_name_prefix}_{i}.png\"  # 这里假设图片格式为.png，可以根据实际情况修改\n",
    "        \n",
    "        # 构造完整的文件路径\n",
    "        old_file_path = os.path.join(folder_path, file_name)\n",
    "        new_file_path = os.path.join(new_path, new_file_name)\n",
    "        \n",
    "        #复制\n",
    "        shutil.copy2(old_file_path,new_file_path)"
   ]
  },
  {
   "cell_type": "code",
   "execution_count": 3,
   "id": "8cd7f668",
   "metadata": {},
   "outputs": [],
   "source": [
    "#数据路径\n",
    "folder_path1 = \"./test\"  \n",
    "folder_path2 = \"./final_data/notfufu\" \n",
    "new_path1 = \"./newFu\"\n",
    "new_path2 = \"./final_data/NOTFU\"\n",
    "\n",
    "# 新的文件名前缀\n",
    "new_name_prefix1 = \"FU\"  \n",
    "new_name_prefix2 = \"NOTFU\"  \n",
    "\n",
    "#复制and重命名\n",
    "#rename_images(new_path1, folder_path1, new_name_prefix1)\n",
    "#rename_images(new_path2, folder_path2, new_name_prefix2)"
   ]
  },
  {
   "cell_type": "code",
   "execution_count": 4,
   "id": "6471960b",
   "metadata": {},
   "outputs": [],
   "source": [
    "#二值化\n",
    "def binaryImage(img):\n",
    "    gray_img = cv2.cvtColor(img, cv2.COLOR_BGR2GRAY) #三通道转单通道\n",
    "    # 应用阈值进行二值化\n",
    "    threshold_value = 75  # 阈值\n",
    "    max_value = 255  # 最大值\n",
    "    ret, binary_img = cv2.threshold(gray_img, threshold_value, max_value, cv2.THRESH_BINARY)\n",
    "    return binary_img"
   ]
  },
  {
   "cell_type": "code",
   "execution_count": 5,
   "id": "89bf376a",
   "metadata": {},
   "outputs": [],
   "source": [
    "#零一化\n",
    "def zeroOne(img):\n",
    "    binaryImg = binaryImage(img)\n",
    "    if np.sum(binaryImg[0]) >= 255 * (img.shape[1]//2):\n",
    "        arr = binaryImg == 0\n",
    "    else:\n",
    "        arr = binaryImg == 255\n",
    "    arr = arr.astype(int)\n",
    "    return arr"
   ]
  },
  {
   "cell_type": "code",
   "execution_count": 6,
   "id": "3c3d8458",
   "metadata": {},
   "outputs": [],
   "source": [
    "#投票式均值滤波\n",
    "def meanFilter(img):\n",
    "    image = img.copy()\n",
    "    for i in range(1,img.shape[0] - 1):\n",
    "        for j in range(1, img.shape[1] - 1):\n",
    "            image[i,j] = sum(sum(image[i-1:i+2,j-1:j+2])) >=5\n",
    "    return image"
   ]
  },
  {
   "cell_type": "code",
   "execution_count": 7,
   "id": "7910e5a5",
   "metadata": {},
   "outputs": [],
   "source": [
    "#计算范围\n",
    "def makeRange(img):\n",
    "    colSum = np.sum(img,axis = 0)\n",
    "    rowSum = np.sum(img,axis = 1)\n",
    "    result = [[0,0],[0,0]]\n",
    "    for i in range(len(colSum)):\n",
    "        if colSum[i] > 2 and i > 15:\n",
    "            result[0][0] = i\n",
    "            break\n",
    "    for i in range(len(rowSum)):\n",
    "        if rowSum[i] > 2 and i > 15:\n",
    "            result[1][0] = i\n",
    "            break\n",
    "    for i in range(len(colSum) - 1,-1,-1):\n",
    "        if colSum[i] > 2 and len(colSum) - 1 - i > 15:\n",
    "            result[0][1] = i\n",
    "            break\n",
    "    for i in range(len(rowSum) - 1,-1,-1):\n",
    "        if rowSum[i] > 2 and len(rowSum) - 1 - i > 15:\n",
    "            result[1][1] = i\n",
    "            break\n",
    "    return result"
   ]
  },
  {
   "cell_type": "code",
   "execution_count": 8,
   "id": "f61f5728",
   "metadata": {},
   "outputs": [],
   "source": [
    "#图片裁剪\n",
    "def cutimg(img):\n",
    "    Range = makeRange(img)\n",
    "    newImg = img[Range[1][0]:Range[1][1] + 1,Range[0][0]:Range[0][1]+1]\n",
    "    return newImg"
   ]
  },
  {
   "cell_type": "code",
   "execution_count": 9,
   "id": "1268ab46",
   "metadata": {},
   "outputs": [],
   "source": [
    "#制作新图片\n",
    "def makeNewImage(old_path,new_path,name):\n",
    "    files = os.listdir(old_path)\n",
    "    for i in range(len(files)):\n",
    "        #设置路径\n",
    "        file_name = f\"{name}_{i}.png\"\n",
    "        new_name = f\"{name}_{i}.png\"\n",
    "        path = os.path.join(old_path, file_name)\n",
    "        newpath = os.path.join(new_path,new_name)\n",
    "        \n",
    "        #处理图像矩阵\n",
    "        img = cv2.imread(path)\n",
    "        if img is None:\n",
    "            continue\n",
    "        arr = zeroOne(img)\n",
    "        arr = meanFilter(arr)\n",
    "        arr = cutimg(arr)\n",
    "        \n",
    "        #再恢复为图片\n",
    "        newImg = arr == 0\n",
    "        newImg = newImg * 255\n",
    "        newImg = newImg.astype(np.uint8)\n",
    "        \n",
    "        \n",
    "        # 调整图片大小为 500x500\n",
    "        resized_image = cv2.resize(newImg, (500, 500),interpolation=cv2.INTER_NEAREST)\n",
    "\n",
    "        #写图片\n",
    "        cv2.imwrite(newpath, resized_image)"
   ]
  },
  {
   "cell_type": "code",
   "execution_count": 10,
   "id": "868fdc06",
   "metadata": {},
   "outputs": [],
   "source": [
    "#只进行二值化和大小转化\n",
    "def makeNewImageJustBinary(old_path,new_path,name):\n",
    "    files = os.listdir(old_path)\n",
    "    for i, file_name in enumerate(files):\n",
    "        new_name = f\"{name}_{i}.png\"\n",
    "        path = os.path.join(old_path, file_name)\n",
    "        newpath = os.path.join(new_path,new_name)\n",
    "        \n",
    "        img = cv2.imread(path)\n",
    "        if img is None:\n",
    "            continue\n",
    "        arr = zeroOne(img)\n",
    "        \n",
    "        newImg = arr == 0\n",
    "        newImg = newImg * 255\n",
    "        newImg = newImg.astype(np.uint8)\n",
    "        \n",
    "        \n",
    "        # 调整图片大小为 500x500\n",
    "        resized_image = cv2.resize(newImg, (500, 500),interpolation=cv2.INTER_NEAREST)\n",
    "\n",
    "        cv2.imwrite(newpath, resized_image)"
   ]
  },
  {
   "cell_type": "code",
   "execution_count": 11,
   "id": "ba1fea4e",
   "metadata": {},
   "outputs": [],
   "source": [
    "#从一个数据集中按一定方法挑选数据\n",
    "def copybmp(new_path):\n",
    "    folder_path = \"./手写汉字数据集\"\n",
    "    files = os.listdir(folder_path)\n",
    "    for i, file_name in enumerate(files):\n",
    "        if file_name == \".DS_Store\":\n",
    "            continue\n",
    "        path = os.path.join(folder_path,file_name)\n",
    "        file = os.listdir(path)\n",
    "        index = (i ** 5 * 20 - 1) % len(file)\n",
    "        path1 = os.path.join(path,file[index])\n",
    "        path2 = os.path.join(new_path,file[index])\n",
    "        shutil.copy2(path1,path2)"
   ]
  },
  {
   "cell_type": "code",
   "execution_count": 12,
   "id": "fce2845b",
   "metadata": {},
   "outputs": [],
   "source": [
    "#实际运行操作\n",
    "#copybmp(\"./new\")\n",
    "#makeNewImage('./data/FU',\"./final_data/FU\",\"FU\")\n",
    "#makeNewImage('./data/NOTFU',\"./final_data/NOTFU\",\"NOTFU\")\n",
    "#makeNewImagenew(\"./new\",\"./newf\",\"New\")"
   ]
  },
  {
   "cell_type": "code",
   "execution_count": 13,
   "id": "d6e76b78",
   "metadata": {},
   "outputs": [],
   "source": [
    "img = cv2.imread(\"./final_data/fufu/FU_0.png\")"
   ]
  },
  {
   "cell_type": "code",
   "execution_count": 14,
   "id": "28e709a3",
   "metadata": {},
   "outputs": [
    {
     "data": {
      "text/plain": [
       "<matplotlib.image.AxesImage at 0x7fbe792686d0>"
      ]
     },
     "execution_count": 14,
     "metadata": {},
     "output_type": "execute_result"
    },
    {
     "data": {
      "image/png": "[encoded data removed]",
      "text/plain": [
       "<Figure size 640x480 with 1 Axes>"
      ]
     },
     "metadata": {},
     "output_type": "display_data"
    }
   ],
   "source": [
    "plt.imshow(binaryImage(img))"
   ]
  },
  {
   "cell_type": "code",
   "execution_count": null,
   "id": "c46a97b1",
   "metadata": {},
   "outputs": [],
   "source": []
  }
 ],
 "metadata": {
  "kernelspec": {
   "display_name": "Python 3 (ipykernel)",
   "language": "python",
   "name": "python3"
  },
  "language_info": {
   "codemirror_mode": {
    "name": "ipython",
    "version": 3
   },
   "file_extension": ".py",
   "mimetype": "text/x-python",
   "name": "python",
   "nbconvert_exporter": "python",
   "pygments_lexer": "ipython3",
   "version": "3.9.13"
  }
 },
 "nbformat": 4,
 "nbformat_minor": 5
}
