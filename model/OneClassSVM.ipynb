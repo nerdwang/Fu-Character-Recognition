{
 "cells": [
  {
   "cell_type": "code",
   "execution_count": 66,
   "id": "59ebf98a-cee5-492a-aa1b-87b41f575d02",
   "metadata": {},
   "outputs": [
    {
     "name": "stdout",
     "output_type": "stream",
     "text": [
      "f1_score: 0.2793415057630638, nu: 0.01, kernel: linear\n",
      "f1_score: 0.2927616986727376, nu: 0.01, kernel: poly\n",
      "f1_score: 0.9555508914308369, nu: 0.01, kernel: rbf\n",
      "f1_score: 0.26284907197208995, nu: 0.01, kernel: sigmoid\n",
      "f1_score: 0.35029367173002035, nu: 0.04379310344827586, kernel: linear\n",
      "f1_score: 0.35492628390546754, nu: 0.04379310344827586, kernel: poly\n",
      "f1_score: 0.9532233634807934, nu: 0.04379310344827586, kernel: rbf\n",
      "f1_score: 0.3461637910386475, nu: 0.04379310344827586, kernel: sigmoid\n",
      "f1_score: 0.38031132114360366, nu: 0.07758620689655171, kernel: linear\n",
      "f1_score: 0.37745722506263846, nu: 0.07758620689655171, kernel: poly\n",
      "f1_score: 0.9519850866586055, nu: 0.07758620689655171, kernel: rbf\n",
      "f1_score: 0.38106626165726865, nu: 0.07758620689655171, kernel: sigmoid\n",
      "f1_score: 0.39233596086912415, nu: 0.11137931034482758, kernel: linear\n",
      "f1_score: 0.39285657174546995, nu: 0.11137931034482758, kernel: poly\n",
      "f1_score: 0.9490206296100734, nu: 0.11137931034482758, kernel: rbf\n",
      "f1_score: 0.3927391791468371, nu: 0.11137931034482758, kernel: sigmoid\n",
      "f1_score: 0.4052618594206776, nu: 0.14517241379310344, kernel: linear\n",
      "f1_score: 0.40271806957603234, nu: 0.14517241379310344, kernel: poly\n",
      "f1_score: 0.9399849868004757, nu: 0.14517241379310344, kernel: rbf\n",
      "f1_score: 0.4162350099243616, nu: 0.14517241379310344, kernel: sigmoid\n",
      "f1_score: 0.4201722486475261, nu: 0.1789655172413793, kernel: linear\n",
      "f1_score: 0.4148244702183119, nu: 0.1789655172413793, kernel: poly\n",
      "f1_score: 0.9352131428468813, nu: 0.1789655172413793, kernel: rbf\n",
      "f1_score: 0.42985078769356966, nu: 0.1789655172413793, kernel: sigmoid\n",
      "f1_score: 0.42562152914019885, nu: 0.21275862068965518, kernel: linear\n",
      "f1_score: 0.42205004120885176, nu: 0.21275862068965518, kernel: poly\n",
      "f1_score: 0.9244336645131378, nu: 0.21275862068965518, kernel: rbf\n",
      "f1_score: 0.43352676862318407, nu: 0.21275862068965518, kernel: sigmoid\n",
      "f1_score: 0.4299959102957783, nu: 0.24655172413793103, kernel: linear\n",
      "f1_score: 0.4274805527897036, nu: 0.24655172413793103, kernel: poly\n",
      "f1_score: 0.9138814927542611, nu: 0.24655172413793103, kernel: rbf\n",
      "f1_score: 0.4377667080059392, nu: 0.24655172413793103, kernel: sigmoid\n",
      "f1_score: 0.4412729420095842, nu: 0.2803448275862069, kernel: linear\n",
      "f1_score: 0.43687596401629525, nu: 0.2803448275862069, kernel: poly\n",
      "f1_score: 0.9045391939994157, nu: 0.2803448275862069, kernel: rbf\n",
      "f1_score: 0.44336598886954426, nu: 0.2803448275862069, kernel: sigmoid\n",
      "f1_score: 0.4420018691518629, nu: 0.31413793103448273, kernel: linear\n",
      "f1_score: 0.4378252269041786, nu: 0.31413793103448273, kernel: poly\n",
      "f1_score: 0.8898735269875921, nu: 0.31413793103448273, kernel: rbf\n",
      "f1_score: 0.44745147186403245, nu: 0.31413793103448273, kernel: sigmoid\n",
      "f1_score: 0.44573701390321885, nu: 0.3479310344827586, kernel: linear\n",
      "f1_score: 0.4412774183778587, nu: 0.3479310344827586, kernel: poly\n",
      "f1_score: 0.8796312809643638, nu: 0.3479310344827586, kernel: rbf\n",
      "f1_score: 0.45007213114754097, nu: 0.3479310344827586, kernel: sigmoid\n",
      "f1_score: 0.4479118703370629, nu: 0.38172413793103444, kernel: linear\n",
      "f1_score: 0.441190157828961, nu: 0.38172413793103444, kernel: poly\n",
      "f1_score: 0.8657965393687577, nu: 0.38172413793103444, kernel: rbf\n",
      "f1_score: 0.4562486582586861, nu: 0.38172413793103444, kernel: sigmoid\n",
      "f1_score: 0.4479635148098144, nu: 0.41551724137931034, kernel: linear\n",
      "f1_score: 0.44497767062390003, nu: 0.41551724137931034, kernel: poly\n",
      "f1_score: 0.8505700468933177, nu: 0.41551724137931034, kernel: rbf\n",
      "f1_score: 0.45575360990469416, nu: 0.41551724137931034, kernel: sigmoid\n",
      "f1_score: 0.45503833494866974, nu: 0.4493103448275862, kernel: linear\n",
      "f1_score: 0.4499109040763614, nu: 0.4493103448275862, kernel: poly\n",
      "f1_score: 0.8343328987396784, nu: 0.4493103448275862, kernel: rbf\n",
      "f1_score: 0.4617551368317507, nu: 0.4493103448275862, kernel: sigmoid\n",
      "f1_score: 0.45511842748776105, nu: 0.48310344827586205, kernel: linear\n",
      "f1_score: 0.4522229481367095, nu: 0.48310344827586205, kernel: poly\n",
      "f1_score: 0.8224218762923489, nu: 0.48310344827586205, kernel: rbf\n",
      "f1_score: 0.47076826538177874, nu: 0.48310344827586205, kernel: sigmoid\n",
      "f1_score: 0.4575994619431222, nu: 0.5168965517241378, kernel: linear\n",
      "f1_score: 0.4507860872743117, nu: 0.5168965517241378, kernel: poly\n",
      "f1_score: 0.8004157289322331, nu: 0.5168965517241378, kernel: rbf\n",
      "f1_score: 0.46945243821799065, nu: 0.5168965517241378, kernel: sigmoid\n",
      "f1_score: 0.4589400407089974, nu: 0.5506896551724138, kernel: linear\n",
      "f1_score: 0.4518976210884618, nu: 0.5506896551724138, kernel: poly\n",
      "f1_score: 0.7884297625503871, nu: 0.5506896551724138, kernel: rbf\n",
      "f1_score: 0.47079960564206147, nu: 0.5506896551724138, kernel: sigmoid\n",
      "f1_score: 0.46219171332507397, nu: 0.5844827586206897, kernel: linear\n",
      "f1_score: 0.4582093674087912, nu: 0.5844827586206897, kernel: poly\n",
      "f1_score: 0.7690750162919269, nu: 0.5844827586206897, kernel: rbf\n",
      "f1_score: 0.4724888425201414, nu: 0.5844827586206897, kernel: sigmoid\n",
      "f1_score: 0.4680901692685877, nu: 0.6182758620689655, kernel: linear\n",
      "f1_score: 0.462216535560034, nu: 0.6182758620689655, kernel: poly\n",
      "f1_score: 0.7525348576190175, nu: 0.6182758620689655, kernel: rbf\n",
      "f1_score: 0.47683539445229783, nu: 0.6182758620689655, kernel: sigmoid\n",
      "f1_score: 0.4675928819657042, nu: 0.6520689655172414, kernel: linear\n",
      "f1_score: 0.460792306305402, nu: 0.6520689655172414, kernel: poly\n",
      "f1_score: 0.7342492125165891, nu: 0.6520689655172414, kernel: rbf\n",
      "f1_score: 0.476849669644977, nu: 0.6520689655172414, kernel: sigmoid\n",
      "f1_score: 0.46696316328220666, nu: 0.6858620689655172, kernel: linear\n",
      "f1_score: 0.4626178951899041, nu: 0.6858620689655172, kernel: poly\n",
      "f1_score: 0.7139104656835153, nu: 0.6858620689655172, kernel: rbf\n",
      "f1_score: 0.47771761566581505, nu: 0.6858620689655172, kernel: sigmoid\n",
      "f1_score: 0.4664848664875714, nu: 0.7196551724137931, kernel: linear\n",
      "f1_score: 0.46186575371134897, nu: 0.7196551724137931, kernel: poly\n",
      "f1_score: 0.6912711197021765, nu: 0.7196551724137931, kernel: rbf\n",
      "f1_score: 0.4740518291510124, nu: 0.7196551724137931, kernel: sigmoid\n",
      "f1_score: 0.46464091924672835, nu: 0.7534482758620689, kernel: linear\n",
      "f1_score: 0.46250628506404157, nu: 0.7534482758620689, kernel: poly\n",
      "f1_score: 0.671467581083012, nu: 0.7534482758620689, kernel: rbf\n",
      "f1_score: 0.4698986266913136, nu: 0.7534482758620689, kernel: sigmoid\n",
      "f1_score: 0.4676549978713523, nu: 0.7872413793103448, kernel: linear\n",
      "f1_score: 0.462497305549838, nu: 0.7872413793103448, kernel: poly\n",
      "f1_score: 0.6479081647962552, nu: 0.7872413793103448, kernel: rbf\n",
      "f1_score: 0.46960514784870244, nu: 0.7872413793103448, kernel: sigmoid\n",
      "f1_score: 0.46229767540165567, nu: 0.8210344827586207, kernel: linear\n",
      "f1_score: 0.4618919514525936, nu: 0.8210344827586207, kernel: poly\n",
      "f1_score: 0.6245637702548965, nu: 0.8210344827586207, kernel: rbf\n",
      "f1_score: 0.46852487769240525, nu: 0.8210344827586207, kernel: sigmoid\n",
      "f1_score: 0.46464082464327383, nu: 0.8548275862068965, kernel: linear\n",
      "f1_score: 0.46167779012580656, nu: 0.8548275862068965, kernel: poly\n",
      "f1_score: 0.5984076680626916, nu: 0.8548275862068965, kernel: rbf\n",
      "f1_score: 0.4704129378547984, nu: 0.8548275862068965, kernel: sigmoid\n",
      "f1_score: 0.46624982266754206, nu: 0.8886206896551724, kernel: linear\n",
      "f1_score: 0.4645898431335416, nu: 0.8886206896551724, kernel: poly\n",
      "f1_score: 0.5673702124887526, nu: 0.8886206896551724, kernel: rbf\n",
      "f1_score: 0.4677673446636522, nu: 0.8886206896551724, kernel: sigmoid\n",
      "f1_score: 0.4639421726886342, nu: 0.9224137931034482, kernel: linear\n",
      "f1_score: 0.46211280095104734, nu: 0.9224137931034482, kernel: poly\n",
      "f1_score: 0.5378262628590282, nu: 0.9224137931034482, kernel: rbf\n",
      "f1_score: 0.4680466977826866, nu: 0.9224137931034482, kernel: sigmoid\n",
      "f1_score: 0.4574772465150945, nu: 0.9562068965517241, kernel: linear\n",
      "f1_score: 0.45813788201847905, nu: 0.9562068965517241, kernel: poly\n",
      "f1_score: 0.5121180045479243, nu: 0.9562068965517241, kernel: rbf\n",
      "f1_score: 0.4631307394092114, nu: 0.9562068965517241, kernel: sigmoid\n",
      "f1_score: 0.4612761778707598, nu: 0.99, kernel: linear\n",
      "f1_score: 0.4584817107345187, nu: 0.99, kernel: poly\n",
      "f1_score: 0.47705843080947113, nu: 0.99, kernel: rbf\n",
      "f1_score: 0.4639519888569362, nu: 0.99, kernel: sigmoid\n",
      "最佳F1分数:  0.9555508914308369\n",
      "最佳参数:  {'nu': 0.01, 'kernel': 'rbf'}\n"
     ]
    }
   ],
   "source": [
    "import numpy as np\n",
    "from sklearn.svm import OneClassSVM\n",
    "from sklearn.metrics import f1_score\n",
    "from sklearn.pipeline import make_pipeline\n",
    "from sklearn.model_selection import train_test_split\n",
    "\n",
    "# 加载数据\n",
    "#fu = np.load(r\"feature/ZBH/fu_ZBH.npy\")\n",
    "#notfu = np.load(r\"feature/ZBH/notfu_ZBH.npy\")\n",
    "\n",
    "f = np.load(r\"feature/20.npy\")\n",
    "fu = f[:501]\n",
    "notfu = f[501:3812]\n",
    "test = f[3812:3822]\n",
    "\n",
    "# 训练集和测试集\n",
    "X_train = fu\n",
    "X_val = np.concatenate((fu, notfu), axis=0)\n",
    "y_val = np.concatenate((np.ones(fu.shape[0]), -np.ones(notfu.shape[0])))\n",
    "\n",
    "f1 = []\n",
    "best_f1 = 0\n",
    "best_params = {}\n",
    "\n",
    "# 网格搜索参数\n",
    "for nu in np.linspace(0.01, 0.99, 30):\n",
    "    for kernel in [\"linear\", \"poly\", \"rbf\", \"sigmoid\"]:\n",
    "        oneclassclf = make_pipeline(OneClassSVM(nu=nu, kernel=kernel))\n",
    "        oneclassclf.fit(X_train)\n",
    "\n",
    "        y_pred = oneclassclf.predict(X_val)\n",
    "        f1_score_val = f1_score(y_val, y_pred, average=\"macro\")\n",
    "\n",
    "        f1.append(f1_score_val)\n",
    "\n",
    "        if f1_score_val > best_f1:\n",
    "            best_f1 = f1_score_val\n",
    "            best_params = {'nu': nu, 'kernel': kernel}\n",
    "\n",
    "        print(f\"f1_score: {f1_score_val}, nu: {nu}, kernel: {kernel}\")\n",
    "\n",
    "print(\"最佳F1分数: \", best_f1)\n",
    "print(\"最佳参数: \", best_params)"
   ]
  },
  {
   "cell_type": "code",
   "execution_count": 67,
   "id": "33a567a0-b917-48fa-8272-33505e605bf6",
   "metadata": {},
   "outputs": [
    {
     "data": {
      "text/plain": [
       "(3311, 144)"
      ]
     },
     "execution_count": 67,
     "metadata": {},
     "output_type": "execute_result"
    }
   ],
   "source": [
    "notfu.shape"
   ]
  },
  {
   "cell_type": "code",
   "execution_count": 68,
   "id": "e7cff3c8-36b5-44bc-8139-26a521ae0abe",
   "metadata": {},
   "outputs": [
    {
     "data": {
      "text/plain": [
       "(501, 144)"
      ]
     },
     "execution_count": 68,
     "metadata": {},
     "output_type": "execute_result"
    }
   ],
   "source": [
    "fu.shape"
   ]
  },
  {
   "cell_type": "code",
   "execution_count": 69,
   "id": "47687360-edf0-40f3-9a5b-dc9ca8d0bb9d",
   "metadata": {},
   "outputs": [],
   "source": [
    "from sklearn.svm import OneClassSVM\n",
    "from sklearn.metrics import classification_report\n",
    "\n",
    "# 加载数据\n",
    "# X_train, X_test, y_test = ...\n",
    "\n",
    "# 根据最佳参数创建OneClassSVM模型\n",
    "clf = OneClassSVM(nu=best_params['nu'], kernel=best_params['kernel'])\n",
    "\n",
    "# 训练模型\n",
    "clf.fit(X_train)\n",
    "\n",
    "# 在测试集上进行预测\n",
    "y_pred = clf.predict(X_val)"
   ]
  },
  {
   "cell_type": "code",
   "execution_count": 70,
   "id": "ffe14a2a-1c52-45d8-a6b5-d52d08cd619c",
   "metadata": {},
   "outputs": [
    {
     "name": "stdout",
     "output_type": "stream",
     "text": [
      "0.9555508914308369\n"
     ]
    },
    {
     "data": {
      "text/plain": [
       "array([[3259,   52],\n",
       "       [  27,  474]], dtype=int64)"
      ]
     },
     "execution_count": 70,
     "metadata": {},
     "output_type": "execute_result"
    }
   ],
   "source": [
    "from sklearn.metrics import f1_score\n",
    "\n",
    "print(f1_score(y_val, y_pred, average=\"macro\"))\n",
    "from sklearn.metrics import confusion_matrix\n",
    "\n",
    "confusion_matrix(y_val, y_pred)"
   ]
  },
  {
   "cell_type": "code",
   "execution_count": 71,
   "id": "0667c14f-3bd4-44c7-b264-8dc3d227b7c6",
   "metadata": {},
   "outputs": [
    {
     "name": "stdout",
     "output_type": "stream",
     "text": [
      "分类报告:\n",
      "              precision    recall  f1-score   support\n",
      "\n",
      "        -1.0       0.99      0.98      0.99      3311\n",
      "         1.0       0.90      0.95      0.92       501\n",
      "\n",
      "    accuracy                           0.98      3812\n",
      "   macro avg       0.95      0.97      0.96      3812\n",
      "weighted avg       0.98      0.98      0.98      3812\n",
      "\n"
     ]
    }
   ],
   "source": [
    "from sklearn.metrics import classification_report\n",
    "\n",
    "print('分类报告:') \t#包括准确率、召回率、f1得分等\n",
    "print(classification_report(y_val, y_pred))"
   ]
  },
  {
   "cell_type": "code",
   "execution_count": 72,
   "id": "68559c09-6236-4039-9f4f-d4b870b15443",
   "metadata": {},
   "outputs": [
    {
     "data": {
      "image/png": "[encoded data removed]",
      "text/plain": [
       "<Figure size 640x480 with 2 Axes>"
      ]
     },
     "metadata": {},
     "output_type": "display_data"
    }
   ],
   "source": [
    "from sklearn.metrics import confusion_matrix\n",
    "import matplotlib.pyplot as plt\n",
    "import seaborn as sns\n",
    "\n",
    "# 计算混淆矩阵\n",
    "conf_matrix = confusion_matrix(y_val, y_pred)\n",
    "\n",
    "# 使用Seaborn绘制混淆矩阵的热图\n",
    "sns.heatmap(conf_matrix, annot=True, fmt=\"d\", cmap=\"Blues\")\n",
    "plt.title(\"Confusion Matrix\")\n",
    "plt.xlabel(\"Predicted Label\")\n",
    "plt.ylabel(\"True Label\")\n",
    "plt.show()"
   ]
  },
  {
   "cell_type": "code",
   "execution_count": 73,
   "id": "2247d8b3-70ae-484c-8e6e-23d1ef7b72ee",
   "metadata": {},
   "outputs": [],
   "source": [
    "#test=np.load(r\"feature/ZBH/testfu_ZBH.npy\")"
   ]
  },
  {
   "cell_type": "code",
   "execution_count": 74,
   "id": "eeba605f-3a6b-43ed-8cdf-38ca2b0d01c8",
   "metadata": {},
   "outputs": [
    {
     "data": {
      "text/plain": [
       "array([ 1,  1,  1,  1,  1, -1, -1, -1, -1, -1], dtype=int64)"
      ]
     },
     "execution_count": 74,
     "metadata": {},
     "output_type": "execute_result"
    }
   ],
   "source": [
    "clf.predict(test)"
   ]
  }
 ],
 "metadata": {
  "kernelspec": {
   "display_name": "opencv",
   "language": "python",
   "name": "opencv"
  },
  "language_info": {
   "codemirror_mode": {
    "name": "ipython",
    "version": 3
   },
   "file_extension": ".py",
   "mimetype": "text/x-python",
   "name": "python",
   "nbconvert_exporter": "python",
   "pygments_lexer": "ipython3",
   "version": "3.7.0"
  }
 },
 "nbformat": 4,
 "nbformat_minor": 5
}
