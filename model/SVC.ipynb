{
 "cells": [
  {
   "cell_type": "code",
   "execution_count": 46,
   "id": "98f3a012-e767-4a79-8b98-38d20222c5b2",
   "metadata": {},
   "outputs": [],
   "source": [
    "from sklearn.model_selection import GridSearchCV\n",
    "from sklearn.svm import SVC\n",
    "from sklearn.metrics import classification_report, confusion_matrix\n",
    "import matplotlib.pyplot as plt\n",
    "import numpy as np\n",
    "from sklearn.model_selection import train_test_split\n",
    "from sklearn.metrics import f1_score\n",
    "\n",
    "# 加载数据\n",
    "#fu = np.load(r\"feature/ZBH/fu_ZBH.npy\")\n",
    "#notfu = np.load(r\"feature/ZBH/notfu_ZBH.npy\")  # 确保这里加载的是notfu数据喵\n",
    "\n",
    "f = np.load(r\"feature/20.npy\")\n",
    "fu = f[:501]\n",
    "notfu = f[501:3812]\n",
    "test = f[3812:3822]\n",
    "\n",
    "# 合并数据\n",
    "X = np.concatenate((fu, notfu), axis=0)\n",
    "y = np.concatenate((np.ones(len(fu)), np.zeros(len(notfu))), axis=0)  # 1代表fu，0代表notfu\n",
    "\n",
    "# 分割数据为训练集和测试集\n",
    "X_train, X_val, y_train, y_val = train_test_split(X, y, test_size=0.2, random_state=42)"
   ]
  },
  {
   "cell_type": "code",
   "execution_count": 47,
   "id": "50d01777-924b-4c8e-954e-d50d3940b316",
   "metadata": {},
   "outputs": [
    {
     "data": {
      "text/plain": [
       "501"
      ]
     },
     "execution_count": 47,
     "metadata": {},
     "output_type": "execute_result"
    }
   ],
   "source": [
    "len(fu)"
   ]
  },
  {
   "cell_type": "code",
   "execution_count": 48,
   "id": "1b078b29-87fc-4041-b231-0eef4e1340af",
   "metadata": {},
   "outputs": [
    {
     "data": {
      "text/plain": [
       "3311"
      ]
     },
     "execution_count": 48,
     "metadata": {},
     "output_type": "execute_result"
    }
   ],
   "source": [
    "len(notfu)"
   ]
  },
  {
   "cell_type": "code",
   "execution_count": 49,
   "id": "88d9406f-3bfb-4907-b0ee-b5f8f9dab8b1",
   "metadata": {},
   "outputs": [
    {
     "data": {
      "text/plain": [
       "GridSearchCV(cv=5, estimator=SVC(),\n",
       "             param_grid={'C': [0.1, 1, 10, 100], 'gamma': ['scale', 'auto'],\n",
       "                         'kernel': ['rbf', 'poly', 'sigmoid']},\n",
       "             scoring='accuracy')"
      ]
     },
     "execution_count": 49,
     "metadata": {},
     "output_type": "execute_result"
    }
   ],
   "source": [
    "# 定义SVC的参数网格\n",
    "param_grid = {\n",
    "    'C': [0.1, 1, 10, 100],  # 惩罚参数\n",
    "    'gamma': ['scale', 'auto'],  # 核函数系数\n",
    "    'kernel': ['rbf', 'poly', 'sigmoid']  # 核函数类型\n",
    "}\n",
    "\n",
    "# 创建SVC对象\n",
    "svc = SVC()\n",
    "\n",
    "# 创建网格搜索对象\n",
    "clf = GridSearchCV(svc, param_grid, cv=5, scoring='accuracy')\n",
    "\n",
    "# 进行网格搜索\n",
    "clf.fit(X_train, y_train)"
   ]
  },
  {
   "cell_type": "code",
   "execution_count": 50,
   "id": "a7ef24e4-5bc6-497b-bb0c-14ec75705f7c",
   "metadata": {},
   "outputs": [
    {
     "name": "stdout",
     "output_type": "stream",
     "text": [
      "0.9736046771266742\n"
     ]
    },
    {
     "data": {
      "text/plain": [
       "array([[633,   5],\n",
       "       [  6, 119]], dtype=int64)"
      ]
     },
     "execution_count": 50,
     "metadata": {},
     "output_type": "execute_result"
    }
   ],
   "source": [
    "y_pred = clf.predict(X_val)\n",
    "print(f1_score(y_val, y_pred, average=\"macro\"))\n",
    "from sklearn.metrics import confusion_matrix\n",
    "\n",
    "confusion_matrix(y_val, y_pred)"
   ]
  },
  {
   "cell_type": "code",
   "execution_count": 51,
   "id": "0a9772bc-b724-4c53-bc60-28e8a5da9143",
   "metadata": {},
   "outputs": [
    {
     "name": "stdout",
     "output_type": "stream",
     "text": [
      "分类报告:\n",
      "              precision    recall  f1-score   support\n",
      "\n",
      "         0.0       0.99      0.99      0.99       638\n",
      "         1.0       0.96      0.95      0.96       125\n",
      "\n",
      "    accuracy                           0.99       763\n",
      "   macro avg       0.98      0.97      0.97       763\n",
      "weighted avg       0.99      0.99      0.99       763\n",
      "\n"
     ]
    }
   ],
   "source": [
    "from sklearn.metrics import classification_report\n",
    "\n",
    "print('分类报告:') \t#包括准确率、召回率、f1得分等\n",
    "print(classification_report(y_val, y_pred))"
   ]
  },
  {
   "cell_type": "code",
   "execution_count": 52,
   "id": "3eb88e1b-2ec7-4976-9467-99bd548990f9",
   "metadata": {},
   "outputs": [
    {
     "data": {
      "image/png": "[encoded data removed]",
      "text/plain": [
       "<Figure size 640x480 with 2 Axes>"
      ]
     },
     "metadata": {},
     "output_type": "display_data"
    }
   ],
   "source": [
    "from sklearn.metrics import confusion_matrix\n",
    "import matplotlib.pyplot as plt\n",
    "import seaborn as sns\n",
    "\n",
    "# 计算混淆矩阵\n",
    "conf_matrix = confusion_matrix(y_val, y_pred)\n",
    "\n",
    "# 使用Seaborn绘制混淆矩阵的热图\n",
    "sns.heatmap(conf_matrix, annot=True, fmt=\"d\", cmap=\"Blues\")\n",
    "plt.title(\"Confusion Matrix\")\n",
    "plt.xlabel(\"Predicted Label\")\n",
    "plt.ylabel(\"True Label\")\n",
    "plt.show()"
   ]
  },
  {
   "cell_type": "code",
   "execution_count": 53,
   "id": "4e87dc69-d9f7-4e7d-a51b-88adc1c98fed",
   "metadata": {},
   "outputs": [],
   "source": [
    "#test=np.load(r\"feature/ZBH/testfu_ZBH.npy\")"
   ]
  },
  {
   "cell_type": "code",
   "execution_count": 54,
   "id": "a592843e-ad92-4350-9e76-37de2a22d7c4",
   "metadata": {},
   "outputs": [
    {
     "data": {
      "text/plain": [
       "array([1, 1, 1, 1, 1, 0, 0, 0, 0, 0])"
      ]
     },
     "execution_count": 54,
     "metadata": {},
     "output_type": "execute_result"
    }
   ],
   "source": [
    "# 预测测试集\n",
    "y_pred = clf.predict(test)\n",
    "\n",
    "# 把预测结果转换为整数\n",
    "y_pred_int = y_pred.astype(int)\n",
    "\n",
    "# 现在y_pred_int中的值将不再有小数点喵\n",
    "y_pred_int"
   ]
  }
 ],
 "metadata": {
  "kernelspec": {
   "display_name": "opencv",
   "language": "python",
   "name": "opencv"
  },
  "language_info": {
   "codemirror_mode": {
    "name": "ipython",
    "version": 3
   },
   "file_extension": ".py",
   "mimetype": "text/x-python",
   "name": "python",
   "nbconvert_exporter": "python",
   "pygments_lexer": "ipython3",
   "version": "3.7.0"
  }
 },
 "nbformat": 4,
 "nbformat_minor": 5
}
