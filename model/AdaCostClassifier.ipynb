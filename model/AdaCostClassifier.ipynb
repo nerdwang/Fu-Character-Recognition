{
 "cells": [
  {
   "cell_type": "code",
   "execution_count": null,
   "id": "9393a962",
   "metadata": {},
   "outputs": [],
   "source": [
    "from imbens.ensemble import AdaCostClassifier"
   ]
  },
  {
   "cell_type": "code",
   "execution_count": null,
   "id": "0a193e7c",
   "metadata": {},
   "outputs": [],
   "source": [
    "import numpy as np\n",
    "from sklearn.model_selection import train_test_split\n",
    "from sklearn.ensemble import AdaBoostClassifier\n",
    "from sklearn.tree import DecisionTreeClassifier  # 这里添加导入DecisionTreeClassifier\n",
    "from sklearn.metrics import confusion_matrix, classification_report\n",
    "import matplotlib.pyplot as plt\n",
    "\n",
    "# 加载数据\n",
    "fu = np.load(r\"feature/Character-SIFT/fu_Character-SIFT.npy\")\n",
    "notfu = np.load(r\"feature/Character-SIFT/notfu_Character-SIFT.npy\")  # 确保这里加载的是notfu数据喵\n",
    "\n",
    "# 合并数据\n",
    "X = np.concatenate((fu, notfu), axis=0)\n",
    "y = np.concatenate((np.ones(len(fu)), np.zeros(len(notfu))), axis=0)  # 1代表fu，0代表notfu\n",
    "\n",
    "# 分割数据为训练集和测试集\n",
    "X_train, X_val, y_train, y_val = train_test_split(X, y, test_size=0.2, random_state=42)"
   ]
  },
  {
   "cell_type": "code",
   "execution_count": null,
   "id": "721c70ba",
   "metadata": {},
   "outputs": [],
   "source": [
    "# Train an SPE classifier\n",
    "clf = AdaCostClassifier(random_state=42)\n",
    "clf.fit(X_train, y_train)\n",
    "\n",
    "# Predict with an SPE classifier\n",
    "y_pred = clf.predict(X_val)"
   ]
  },
  {
   "cell_type": "code",
   "execution_count": null,
   "id": "f4e30bd4",
   "metadata": {},
   "outputs": [],
   "source": [
    "from sklearn.metrics import f1_score\n",
    "\n",
    "print(f1_score(y_val, y_pred, average=\"macro\"))\n",
    "from sklearn.metrics import confusion_matrix\n",
    "\n",
    "confusion_matrix(y_val, y_pred)"
   ]
  },
  {
   "cell_type": "code",
   "execution_count": null,
   "id": "4f968505",
   "metadata": {},
   "outputs": [],
   "source": [
    "from sklearn.metrics import classification_report\n",
    "\n",
    "print('分类报告:') \t#包括准确率、召回率、f1得分等\n",
    "print(classification_report(y_val, y_pred))"
   ]
  },
  {
   "cell_type": "code",
   "execution_count": null,
   "id": "9858e59c",
   "metadata": {},
   "outputs": [],
   "source": [
    "from sklearn.metrics import confusion_matrix\n",
    "import matplotlib.pyplot as plt\n",
    "import seaborn as sns\n",
    "\n",
    "# 计算混淆矩阵\n",
    "conf_matrix = confusion_matrix(y_val, y_pred)\n",
    "\n",
    "# 使用Seaborn绘制混淆矩阵的热图\n",
    "sns.heatmap(conf_matrix, annot=True, fmt=\"d\", cmap=\"Blues\")\n",
    "plt.title(\"Confusion Matrix\")\n",
    "plt.xlabel(\"Predicted Label\")\n",
    "plt.ylabel(\"True Label\")\n",
    "plt.show()"
   ]
  },
  {
   "cell_type": "code",
   "execution_count": null,
   "id": "7285c2eb",
   "metadata": {},
   "outputs": [],
   "source": [
    "test=np.load(r\"feature/Character-SIFT/testfu_Character-SIFT.npy\")"
   ]
  },
  {
   "cell_type": "code",
   "execution_count": null,
   "id": "d652c191",
   "metadata": {},
   "outputs": [],
   "source": [
    "clf.predict(test)"
   ]
  }
 ],
 "metadata": {
  "kernelspec": {
   "display_name": "imbens",
   "language": "python",
   "name": "imbens"
  },
  "language_info": {
   "codemirror_mode": {
    "name": "ipython",
    "version": 3
   },
   "file_extension": ".py",
   "mimetype": "text/x-python",
   "name": "python",
   "nbconvert_exporter": "python",
   "pygments_lexer": "ipython3",
   "version": "3.8.0"
  }
 },
 "nbformat": 4,
 "nbformat_minor": 5
}
