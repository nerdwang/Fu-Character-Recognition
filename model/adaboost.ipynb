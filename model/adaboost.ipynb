{
 "cells": [
  {
   "cell_type": "code",
   "execution_count": 57,
   "id": "880013bf-7ad0-4a9e-8a55-f04cddf54464",
   "metadata": {},
   "outputs": [],
   "source": [
    "import numpy as np\n",
    "from sklearn.model_selection import train_test_split\n",
    "from sklearn.ensemble import AdaBoostClassifier\n",
    "from sklearn.tree import DecisionTreeClassifier  # 这里添加导入DecisionTreeClassifier\n",
    "from sklearn.metrics import confusion_matrix, classification_report\n",
    "import matplotlib.pyplot as plt\n",
    "\n",
    "# 加载数据\n",
    "#fu = np.load(r\"feature/Character-SIFT/fu_Character-SIFT.npy\")\n",
    "#notfu = np.load(r\"feature/Character-SIFT/notfu_Character-SIFT.npy\")  # 确保这里加载的是notfu数据喵\n",
    "\n",
    "f = np.load(r\"feature/20.npy\")\n",
    "fu = f[:501]\n",
    "notfu = f[501:3812]\n",
    "test = f[3812:3822]\n",
    "\n",
    "# 合并数据\n",
    "X = np.concatenate((fu, notfu), axis=0)\n",
    "y = np.concatenate((np.ones(len(fu)), np.zeros(len(notfu))), axis=0)  # 1代表fu，0代表notfu\n",
    "\n",
    "# 分割数据为训练集和测试集\n",
    "X_train, X_val, y_train, y_val = train_test_split(X, y, test_size=0.2, random_state=42)\n"
   ]
  },
  {
   "cell_type": "code",
   "execution_count": 58,
   "id": "4160471b-6048-4eb9-a423-27eb2ee6b0de",
   "metadata": {},
   "outputs": [
    {
     "data": {
      "text/plain": [
       "501"
      ]
     },
     "execution_count": 58,
     "metadata": {},
     "output_type": "execute_result"
    }
   ],
   "source": [
    "len(fu)"
   ]
  },
  {
   "cell_type": "code",
   "execution_count": 59,
   "id": "c6cb7821-32f9-4916-900b-05d18069d7ec",
   "metadata": {},
   "outputs": [
    {
     "data": {
      "text/plain": [
       "3311"
      ]
     },
     "execution_count": 59,
     "metadata": {},
     "output_type": "execute_result"
    }
   ],
   "source": [
    "len(notfu)"
   ]
  },
  {
   "cell_type": "code",
   "execution_count": 60,
   "id": "6e14c545-d5d1-49eb-b085-02648a9e1017",
   "metadata": {},
   "outputs": [],
   "source": [
    "# 设置 Adaboost 分类器的参数\n",
    "learning_rate = 1.0\n",
    "n_estimators = 500\n",
    "random_state = 42\n",
    "\n",
    "# 创建 Adaboost 分类器\n",
    "clf = AdaBoostClassifier(\n",
    "    base_estimator=DecisionTreeClassifier(max_depth=1),\n",
    "    learning_rate=learning_rate,\n",
    "    n_estimators=n_estimators,\n",
    "    random_state=random_state\n",
    ")"
   ]
  },
  {
   "cell_type": "code",
   "execution_count": 61,
   "id": "c7b23bfd-2e56-4b23-839e-a9e8ab0b5592",
   "metadata": {},
   "outputs": [
    {
     "name": "stdout",
     "output_type": "stream",
     "text": [
      "0.9880790563237247\n"
     ]
    },
    {
     "data": {
      "text/plain": [
       "array([[635,   3],\n",
       "       [  2, 123]], dtype=int64)"
      ]
     },
     "execution_count": 61,
     "metadata": {},
     "output_type": "execute_result"
    }
   ],
   "source": [
    "from sklearn.metrics import f1_score\n",
    "\n",
    "clf.fit(X_train, y_train)\n",
    "y_pred = clf.predict(X_val)\n",
    "print(f1_score(y_val, y_pred, average=\"macro\"))\n",
    "from sklearn.metrics import confusion_matrix\n",
    "\n",
    "confusion_matrix(y_val, y_pred)"
   ]
  },
  {
   "cell_type": "code",
   "execution_count": 62,
   "id": "203fab40-aaeb-4dd3-bf49-56491ad814d0",
   "metadata": {},
   "outputs": [
    {
     "name": "stdout",
     "output_type": "stream",
     "text": [
      "分类报告:\n",
      "              precision    recall  f1-score   support\n",
      "\n",
      "         0.0       1.00      1.00      1.00       638\n",
      "         1.0       0.98      0.98      0.98       125\n",
      "\n",
      "    accuracy                           0.99       763\n",
      "   macro avg       0.99      0.99      0.99       763\n",
      "weighted avg       0.99      0.99      0.99       763\n",
      "\n"
     ]
    }
   ],
   "source": [
    "from sklearn.metrics import classification_report\n",
    "\n",
    "print('分类报告:') \t#包括准确率、召回率、f1得分等\n",
    "print(classification_report(y_val, y_pred))"
   ]
  },
  {
   "cell_type": "code",
   "execution_count": 63,
   "id": "8337fcca-562e-46ea-bd9f-634507dca189",
   "metadata": {},
   "outputs": [
    {
     "data": {
      "image/png": "[encoded data removed]",
      "text/plain": [
       "<Figure size 640x480 with 2 Axes>"
      ]
     },
     "metadata": {},
     "output_type": "display_data"
    }
   ],
   "source": [
    "from sklearn.metrics import confusion_matrix\n",
    "import matplotlib.pyplot as plt\n",
    "import seaborn as sns\n",
    "\n",
    "# 计算混淆矩阵\n",
    "conf_matrix = confusion_matrix(y_val, y_pred)\n",
    "\n",
    "# 使用Seaborn绘制混淆矩阵的热图\n",
    "sns.heatmap(conf_matrix, annot=True, fmt=\"d\", cmap=\"Blues\")\n",
    "plt.title(\"Confusion Matrix\")\n",
    "plt.xlabel(\"Predicted Label\")\n",
    "plt.ylabel(\"True Label\")\n",
    "plt.show()"
   ]
  },
  {
   "cell_type": "code",
   "execution_count": 64,
   "id": "88aa28fa-ba09-439d-a51b-8027db7354c6",
   "metadata": {},
   "outputs": [],
   "source": [
    "#test=np.load(r\"feature/Character-SIFT/testfu_Character-SIFT.npy\")"
   ]
  },
  {
   "cell_type": "code",
   "execution_count": 65,
   "id": "e0f075e8-7d43-43d7-a3f9-f93ea8232744",
   "metadata": {},
   "outputs": [
    {
     "data": {
      "text/plain": [
       "array([1, 1, 1, 1, 1, 0, 1, 0, 0, 0])"
      ]
     },
     "execution_count": 65,
     "metadata": {},
     "output_type": "execute_result"
    }
   ],
   "source": [
    "# 预测测试集\n",
    "y_pred = clf.predict(test)\n",
    "\n",
    "# 把预测结果转换为整数\n",
    "y_pred_int = y_pred.astype(int)\n",
    "\n",
    "# 现在y_pred_int中的值将不再有小数点喵\n",
    "y_pred_int"
   ]
  },
  {
   "cell_type": "code",
   "execution_count": null,
   "id": "70909f36",
   "metadata": {},
   "outputs": [],
   "source": []
  }
 ],
 "metadata": {
  "kernelspec": {
   "display_name": "opencv",
   "language": "python",
   "name": "opencv"
  },
  "language_info": {
   "codemirror_mode": {
    "name": "ipython",
    "version": 3
   },
   "file_extension": ".py",
   "mimetype": "text/x-python",
   "name": "python",
   "nbconvert_exporter": "python",
   "pygments_lexer": "ipython3",
   "version": "3.7.0"
  }
 },
 "nbformat": 4,
 "nbformat_minor": 5
}
